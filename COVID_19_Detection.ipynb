{
  "nbformat": 4,
  "nbformat_minor": 0,
  "metadata": {
    "colab": {
      "provenance": [],
      "gpuType": "T4",
      "mount_file_id": "1CxmTvBerMiehAyN9w5MBeV6fCD0Mm1JH",
      "authorship_tag": "ABX9TyPW1SaivDDOYWffdcE7weBm",
      "include_colab_link": true
    },
    "kernelspec": {
      "name": "python3",
      "display_name": "Python 3"
    },
    "language_info": {
      "name": "python"
    },
    "accelerator": "GPU"
  },
  "cells": [
    {
      "cell_type": "markdown",
      "metadata": {
        "id": "view-in-github",
        "colab_type": "text"
      },
      "source": [
        "<a href=\"https://colab.research.google.com/github/AriyantGit/CT-Scan-Image-Classification-Using-ResNet50/blob/main/COVID_19_Detection.ipynb\" target=\"_parent\"><img src=\"https://colab.research.google.com/assets/colab-badge.svg\" alt=\"Open In Colab\"/></a>"
      ]
    },
    {
      "cell_type": "markdown",
      "source": [
        "Go to Google Drive, upload this notebook and dataset folders. Rigth click notebook, choose Open with -> Google Colab\n",
        "\n",
        "\n",
        "> * To activate GPU in Colab, go to **Runtime -> Change \n",
        "Runtime Type**. Under **Hardware accelerator** choose **GPU** **bold text**"
      ],
      "metadata": {
        "id": "_GXxz5D0Fowx"
      }
    },
    {
      "cell_type": "markdown",
      "source": [
        "\n",
        "\n",
        "# **Connect to Google Drive to access Dataset**\n",
        "\n",
        "\n"
      ],
      "metadata": {
        "id": "frlweWo5F-AG"
      }
    },
    {
      "cell_type": "code",
      "source": [
        "from google.colab import drive\n",
        "drive.mount('/content/drive')"
      ],
      "metadata": {
        "colab": {
          "base_uri": "https://localhost:8080/"
        },
        "id": "Z35-Xu-OCMvf",
        "outputId": "fecf45f7-938f-48a4-a47f-5226878bef0a"
      },
      "execution_count": null,
      "outputs": [
        {
          "output_type": "stream",
          "name": "stdout",
          "text": [
            "Drive already mounted at /content/drive; to attempt to forcibly remount, call drive.mount(\"/content/drive\", force_remount=True).\n"
          ]
        }
      ]
    },
    {
      "cell_type": "markdown",
      "source": [
        "# **Import all dependencies**"
      ],
      "metadata": {
        "id": "NvqfGxCJF52t"
      }
    },
    {
      "cell_type": "code",
      "source": [
        "from builtins import range, input\n",
        "\n",
        "from tensorflow.keras.layers import Input, Lambda, Dense, Flatten, AveragePooling2D, Dropout\n",
        "from tensorflow.keras.models import Model, load_model\n",
        "from tensorflow.keras.applications.resnet50 import ResNet50\n",
        "from tensorflow.keras.applications.resnet50 import preprocess_input\n",
        "from tensorflow.keras.preprocessing import image\n",
        "from tensorflow.keras.preprocessing.image import ImageDataGenerator\n",
        "\n",
        "from sklearn.metrics import confusion_matrix, roc_curve\n",
        "import seaborn as sns\n",
        "import numpy as np\n",
        "import matplotlib.pyplot as plt\n",
        "\n",
        "import cv2\n",
        "from glob import glob\n",
        "\n",
        "from sklearn.model_selection import train_test_split\n",
        "from sklearn.preprocessing import LabelBinarizer\n",
        "from tensorflow.keras.utils import to_categorical"
      ],
      "metadata": {
        "id": "yTOjvMo_DdHr"
      },
      "execution_count": null,
      "outputs": []
    },
    {
      "cell_type": "markdown",
      "source": [
        "# **Here are a few parameters used in deep learning**"
      ],
      "metadata": {
        "id": "eGzOffyvGhjF"
      }
    },
    {
      "cell_type": "code",
      "source": [
        "#define size to which images are to be resized\n",
        "IMAGE_SIZE = [224, 224]\n",
        "\n",
        "# training config:\n",
        "epochs = 500\n",
        "batch_size = 32\n",
        "\n",
        "#define paths\n",
        "covid_path = '/content/drive/MyDrive/Capstone_project/COVID'\n",
        "noncovid_path = '/content/drive/MyDrive/Capstone_project/non-COVID'\n",
        "\n",
        "# Use glob to grab images from path .jpg or jpeg\n",
        "covid_files = glob(covid_path + '/*')\n",
        "noncovid_files = glob(noncovid_path + '/*')"
      ],
      "metadata": {
        "id": "tdUX5J1ZDeKj"
      },
      "execution_count": null,
      "outputs": []
    },
    {
      "cell_type": "code",
      "source": [
        "# Visualize file variable contents\n",
        "print(\"First 5 Covid Files: \",covid_files[0:5])\n",
        "print(\"Total Count: \",len(covid_files))\n",
        "print(\"First 5 NonCovid Files: \",noncovid_files[0:5])\n",
        "print(\"Total Count: \",len(noncovid_files))"
      ],
      "metadata": {
        "colab": {
          "base_uri": "https://localhost:8080/"
        },
        "id": "NH4jLPngEK8U",
        "outputId": "b95b0c06-28c8-4584-eda0-76950a0b75bc"
      },
      "execution_count": null,
      "outputs": [
        {
          "output_type": "stream",
          "name": "stdout",
          "text": [
            "First 5 Covid Files:  ['/content/drive/MyDrive/Capstone_project/COVID/Covid (215).png', '/content/drive/MyDrive/Capstone_project/COVID/Covid (124).png', '/content/drive/MyDrive/Capstone_project/COVID/Covid (26).png', '/content/drive/MyDrive/Capstone_project/COVID/Covid (187).png', '/content/drive/MyDrive/Capstone_project/COVID/Covid (203).png']\n",
            "Total Count:  1252\n",
            "First 5 NonCovid Files:  ['/content/drive/MyDrive/Capstone_project/non-COVID/Non-Covid (1105).png', '/content/drive/MyDrive/Capstone_project/non-COVID/Non-Covid (103).png', '/content/drive/MyDrive/Capstone_project/non-COVID/Non-Covid (1050).png', '/content/drive/MyDrive/Capstone_project/non-COVID/Non-Covid (1102).png', '/content/drive/MyDrive/Capstone_project/non-COVID/Non-Covid (271).png']\n",
            "Total Count:  1229\n"
          ]
        }
      ]
    },
    {
      "cell_type": "code",
      "source": [],
      "metadata": {
        "id": "IS0qdCyPEYgx"
      },
      "execution_count": null,
      "outputs": []
    },
    {
      "cell_type": "code",
      "source": [],
      "metadata": {
        "id": "fSbreuD2EsyZ"
      },
      "execution_count": null,
      "outputs": []
    }
  ]
}